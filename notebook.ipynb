{
 "cells": [
  {
   "cell_type": "code",
   "execution_count": null,
   "metadata": {},
   "outputs": [],
   "source": [
    "import warnings\n",
    "warnings.filterwarnings(\"ignore\")\n",
    "\n",
    "from strategies.SMA_strategy import SMAStrategy\n",
    "from historical_backtester.backtester import Backtester\n",
    "import datetime\n",
    "import pyfolio as pf\n",
    "import pandas as pd"
   ]
  },
  {
   "cell_type": "code",
   "execution_count": null,
   "metadata": {},
   "outputs": [],
   "source": [
    "\n",
    "backtester = Backtester(\n",
    "    SMAStrategy, datetime.datetime.strptime('2000-01-01', \"%Y-%m-%d\"), datetime.datetime.strptime('2023-01-01', \"%Y-%m-%d\"), 1000, 10, 0.01, 'AAPL'\n",
    ")\n",
    "backtester.backtest(False)"
   ]
  },
  {
   "cell_type": "code",
   "execution_count": null,
   "metadata": {},
   "outputs": [],
   "source": [
    "returns = pd.Series(backtester.info['analysis']['pyfolio']['returns'])\n",
    "positions = pd.DataFrame(backtester.info[\"analysis\"][\"pyfolio\"][\"positions\"])\n",
    "transactions = pd.DataFrame(backtester.info[\"analysis\"][\"pyfolio\"][\"transactions\"])\n",
    "\n",
    "returns.index = pd.to_datetime(returns.index)\n",
    "positions.index = pd.to_datetime(positions.index)\n",
    "transactions.index = pd.to_datetime(transactions.index)\n",
    "returns = returns.tz_localize(\"utc\")\n",
    "positions = positions.tz_localize(\"utc\")\n",
    "transactions = transactions.tz_localize(\"utc\")"
   ]
  },
  {
   "cell_type": "code",
   "execution_count": null,
   "metadata": {},
   "outputs": [],
   "source": [
    "pf.create_full_tear_sheet(\n",
    "    returns,\n",
    "    positions=positions,\n",
    "    transactions=transactions,\n",
    "    # gross_lev=gross_lev,\n",
    "    round_trips=True,\n",
    ")"
   ]
  }
 ],
 "metadata": {
  "kernelspec": {
   "display_name": "trading_env",
   "language": "python",
   "name": "python3"
  },
  "language_info": {
   "codemirror_mode": {
    "name": "ipython",
    "version": 3
   },
   "file_extension": ".py",
   "mimetype": "text/x-python",
   "name": "python",
   "nbconvert_exporter": "python",
   "pygments_lexer": "ipython3",
   "version": "3.12.2"
  }
 },
 "nbformat": 4,
 "nbformat_minor": 2
}
